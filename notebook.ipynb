{
 "cells": [
  {
   "cell_type": "markdown",
   "metadata": {},
   "source": [
    "# Importação de Bibliotecas e arquivos:"
   ]
  },
  {
   "cell_type": "code",
   "execution_count": 1,
   "metadata": {},
   "outputs": [],
   "source": [
    "# Importação de Bibliotecas e arquivos:\n",
    "import pandas as pd\n",
    "import pyspark\n",
    "from pyspark.sql import SparkSession\n",
    "sk = SparkSession.builder.appName('sparkdf').getOrCreate()\n",
    "from pyspark.sql import functions as f\n",
    "from pyspark.sql.functions import *\n",
    "from pyspark.sql import Row\n",
    "ifood_df = sk.read.csv(\"planilha_teste.csv\", header=True, sep=',')\n",
    "ifood_df_2020 = sk.read.csv(\"planilha_teste2020.csv\", header=True, sep=',')\n",
    "dados_2020 = pd.read_csv('planilha_teste2020.csv')\n",
    "dados_2021 = pd.read_csv('planilha_teste.csv')\n"
   ]
  },
  {
   "cell_type": "markdown",
   "metadata": {},
   "source": [
    "# Teste para verificar se os dados do DF estao corretos e criação da coluna região:"
   ]
  },
  {
   "cell_type": "code",
   "execution_count": null,
   "metadata": {},
   "outputs": [
    {
     "name": "stdout",
     "output_type": "stream",
     "text": [
      "+---------------------------+----------+---------------+----------------+---------+----------------------+--------------------+---------+-------------+------+------------+\n",
      "|disponível_para_agendamento| categoria|taxa_de_entrega|tempo_de_entrega|distancia|valor_minimo_do_pedido|                nome|avaliação|cidade-estado|estado|      regiao|\n",
      "+---------------------------+----------+---------------+----------------+---------+----------------------+--------------------+---------+-------------+------+------------+\n",
      "|                      False|   Marmita|           3.99|              27|     1.22|                  10.0|Cantina Arte & Sabor|      0.0|  brasilia-df|    df|centro-oeste|\n",
      "|                      False|      Açaí|           7.99|              61|     4.96|                  10.0|    Raruty Açaí Raiz|      0.0|  brasilia-df|    df|centro-oeste|\n",
      "|                      False|   Bebidas|          11.99|              70|     8.35|                   5.0|       Toma na Kombi|      0.0|  brasilia-df|    df|centro-oeste|\n",
      "|                      False|    Carnes|          16.49|              63|     6.35|                  20.0|Churrasquinho do ...|      0.0|  brasilia-df|    df|centro-oeste|\n",
      "|                      False|Brasileira|          11.99|              58|     5.22|                  20.0|   Prime Restaurante|      0.0|  brasilia-df|    df|centro-oeste|\n",
      "|                      False|   Lanches|          12.99|              67|     6.77|                  20.0|Clara Quitutes & Cia|      0.0|  brasilia-df|    df|centro-oeste|\n",
      "|                      False|Brasileira|          11.99|              46|     4.47|                  20.0|  Loca Como Tú Madre|      0.0|  brasilia-df|    df|centro-oeste|\n",
      "|                      False|Congelados|           7.99|              40|     4.18|                  10.0|Frutos de Goiás 7...|      0.0|  brasilia-df|    df|centro-oeste|\n",
      "|                      False|   Lanches|          13.49|              41|      5.5|                  20.0|       Lemos Cozinha|      0.0|  brasilia-df|    df|centro-oeste|\n",
      "|                      False|   Lanches|          15.49|              47|     6.22|                  20.0|  Club House Burguer|      0.0|  brasilia-df|    df|centro-oeste|\n",
      "|                      False|   Lanches|          10.49|              55|     4.23|                  20.0|Caldeirão Furado ...|      0.0|  brasilia-df|    df|centro-oeste|\n",
      "|                      False|    Pastel|           12.0|              80|     5.19|                  20.0|           Siapastel|      0.0|  brasilia-df|    df|centro-oeste|\n",
      "|                      False|   Indiana|          13.49|              57|     5.74|                  20.0|  Indian Curry House|      0.0|  brasilia-df|    df|centro-oeste|\n",
      "|                      False|     Árabe|          14.49|              60|     5.95|                  20.0|    Ahmed Gastro Bar|      0.0|  brasilia-df|    df|centro-oeste|\n",
      "|                      False|Brasileira|           8.49|              50|      3.9|                  20.0|   Cantinho do Sabor|      0.0|  brasilia-df|    df|centro-oeste|\n",
      "|                      False|   Bebidas|          14.49|              60|     5.77|                  10.0|          Jungle Bar|      0.0|  brasilia-df|    df|centro-oeste|\n",
      "|                      False|Brasileira|          15.49|              68|     6.53|                  20.0| Comidas da Marizete|      0.0|  brasilia-df|    df|centro-oeste|\n",
      "|                      False|Brasileira|          13.49|              59|     5.72|                  10.0|              Dedeos|      0.0|  brasilia-df|    df|centro-oeste|\n",
      "|                      False|Brasileira|          15.49|              41|     6.03|                  20.0|Panelinhas do Brasil|      0.0|  brasilia-df|    df|centro-oeste|\n",
      "|                      False|   Lanches|           6.99|              30|     2.02|                  20.0|        Slow And Low|      0.0|  brasilia-df|    df|centro-oeste|\n",
      "+---------------------------+----------+---------------+----------------+---------+----------------------+--------------------+---------+-------------+------+------------+\n",
      "only showing top 20 rows\n",
      "\n",
      "root\n",
      " |-- disponível_para_agendamento: string (nullable = true)\n",
      " |-- categoria: string (nullable = true)\n",
      " |-- taxa_de_entrega: float (nullable = true)\n",
      " |-- tempo_de_entrega: integer (nullable = true)\n",
      " |-- distancia: float (nullable = true)\n",
      " |-- valor_minimo_do_pedido: float (nullable = true)\n",
      " |-- nome: string (nullable = true)\n",
      " |-- avaliação: float (nullable = true)\n",
      " |-- cidade-estado: string (nullable = true)\n",
      " |-- estado: string (nullable = true)\n",
      " |-- regiao: string (nullable = true)\n",
      "\n",
      "+-------------+------------+-------------+---------+-------------------------------------+---------+--------------------------+------+--------+\n",
      "|categoria    |taxa_entrega|tempo_entrega|distancia|nome_restaurante                     |avaliacao|cidade-estado             |estado|regiao  |\n",
      "+-------------+------------+-------------+---------+-------------------------------------+---------+--------------------------+------+--------+\n",
      "|Lanches      |9.0         |80           |6.2      |El'moedor                            |4.30303  |vitoria-de-santo-antao-pe |pe    |nordeste|\n",
      "|Doces & Bolos|6.0         |35           |3.03     |Delicia de Brigadeiro                |0.0      |moreno-pe                 |pe    |nordeste|\n",
      "|Brasileira   |4.0         |40           |1.51     |Pizzaria Rappi10 - Moreno            |0.0      |moreno-pe                 |pe    |nordeste|\n",
      "|Lanches      |0.0         |50           |0.79     |Tapioca Arretada                     |5.0      |jaboatao-dos-guararapes-pe|pe    |nordeste|\n",
      "|Salgados     |12.99       |36           |5.12     |Minuto Kit Festa ( Salgados e Doces )|5.0      |jaboatao-dos-guararapes-pe|pe    |nordeste|\n",
      "|Doces & Bolos|8.99        |42           |4.78     |Docito                               |5.0      |jaboatao-dos-guararapes-pe|pe    |nordeste|\n",
      "|Lanches      |12.99       |47           |6.3      |Nasu's Dog                           |5.0      |jaboatao-dos-guararapes-pe|pe    |nordeste|\n",
      "|Lanches      |12.99       |67           |6.05     |Lanchinho Arretado                   |0.0      |recife-pe                 |pe    |nordeste|\n",
      "|Lanches      |7.0         |70           |4.8      |Burguer 92                           |3.0      |jaboatao-dos-guararapes-pe|pe    |nordeste|\n",
      "|Marmita      |8.9         |120          |5.32     |PARMEGIANA MESTRE DO SABOR           |3.375    |jaboatao-dos-guararapes-pe|pe    |nordeste|\n",
      "|Brasileira   |4.99        |36           |1.27     |Restaurante Recanto Nordestino       |0.0      |jaboatao-dos-guararapes-pe|pe    |nordeste|\n",
      "|Lanches      |4.99        |23           |0.72     |Evellyn Doces Paes                   |3.0      |jaboatao-dos-guararapes-pe|pe    |nordeste|\n",
      "|Brasileira   |5.0         |30           |2.12     |Feito Com Amor                       |0.0      |jaboatao-dos-guararapes-pe|pe    |nordeste|\n",
      "|Bebidas      |8.99        |41           |4.83     |Deposito do Lula                     |5.0      |jaboatao-dos-guararapes-pe|pe    |nordeste|\n",
      "|Doces & Bolos|12.99       |44           |6.0      |Mundo dos Doces                      |0.0      |jaboatao-dos-guararapes-pe|pe    |nordeste|\n",
      "|Açaí         |8.99        |45           |4.34     |Parada do Açai                       |5.0      |jaboatao-dos-guararapes-pe|pe    |nordeste|\n",
      "|Doces & Bolos|3.0         |20           |0.7      |Tais Cakes                           |5.0      |jaboatao-dos-guararapes-pe|pe    |nordeste|\n",
      "|Conveniência |10.0        |45           |4.67     |Ac Bebidas e Conveniência 24 horas   |4.77778  |jaboatao-dos-guararapes-pe|pe    |nordeste|\n",
      "|Brasileira   |12.99       |67           |6.04     |Restaurante Ipanema                  |0.0      |recife-pe                 |pe    |nordeste|\n",
      "|Lanches      |8.99        |60           |4.07     |Dona Batata                          |0.0      |jaboatao-dos-guararapes-pe|pe    |nordeste|\n",
      "+-------------+------------+-------------+---------+-------------------------------------+---------+--------------------------+------+--------+\n",
      "only showing top 20 rows\n",
      "\n",
      "root\n",
      " |-- categoria: string (nullable = true)\n",
      " |-- taxa_entrega: float (nullable = true)\n",
      " |-- tempo_entrega: integer (nullable = true)\n",
      " |-- distancia: float (nullable = true)\n",
      " |-- nome_restaurante: string (nullable = true)\n",
      " |-- avaliacao: float (nullable = true)\n",
      " |-- cidade-estado: string (nullable = true)\n",
      " |-- estado: string (nullable = true)\n",
      " |-- regiao: string (nullable = true)\n",
      "\n"
     ]
    }
   ],
   "source": [
    "ifood_df = ifood_df.withColumn('regiao', when(col('estado') == 'se', 'nordeste')\n",
    "                    .when(col('estado') == 'ba', 'nordeste')\n",
    "                    .when(col('estado') == 'pe', 'nordeste')\n",
    "                    .when(col('estado') == 'al', 'nordeste')\n",
    "                    .when(col('estado') == 'ce', 'nordeste')\n",
    "                    .when(col('estado') == 'ma', 'nordeste')\n",
    "                    .when(col('estado') == 'rn', 'nordeste')\n",
    "                    .when(col('estado') == 'pb', 'nordeste')\n",
    "                    .when(col('estado') == 'pi', 'nordeste')\n",
    "                    .when(col('estado') == 'to', 'norte')\n",
    "                    .when(col('estado') == 'am', 'norte')\n",
    "                    .when(col('estado') == 'rr', 'norte')\n",
    "                    .when(col('estado') == 'ac', 'norte')\n",
    "                    .when(col('estado') == 'ro', 'norte')\n",
    "                    .when(col('estado') == 'ap', 'norte')\n",
    "                    .when(col('estado') == 'pa', 'norte')\n",
    "                    .when(col('estado') == 'mt', 'centro-oeste')\n",
    "                    .when(col('estado') == 'go', 'centro-oeste')\n",
    "                    .when(col('estado') == 'ms', 'centro-oeste')\n",
    "                    .when(col('estado') == 'df', 'centro-oeste')\n",
    "                    .when(col('estado') == 'mg', 'sudeste')\n",
    "                    .when(col('estado') == 'es', 'sudeste')\n",
    "                    .when(col('estado') == 'rj', 'sudeste')\n",
    "                    .when(col('estado') == 'sp', 'sudeste')\n",
    "                    .when(col('estado') == 'pr', 'sul')\n",
    "                    .when(col('estado') == 'rs', 'sul')\n",
    "                    .when(col('estado') == 'sc', 'sul'))\n",
    "\n",
    "ifood_df_2020 = ifood_df_2020.withColumn('regiao', when(col('estado') == 'se', 'nordeste')\n",
    "                    .when(col('estado') == 'ba', 'nordeste')\n",
    "                    .when(col('estado') == 'pe', 'nordeste')\n",
    "                    .when(col('estado') == 'al', 'nordeste')\n",
    "                    .when(col('estado') == 'ce', 'nordeste')\n",
    "                    .when(col('estado') == 'ma', 'nordeste')\n",
    "                    .when(col('estado') == 'rn', 'nordeste')\n",
    "                    .when(col('estado') == 'pb', 'nordeste')\n",
    "                    .when(col('estado') == 'pi', 'nordeste')\n",
    "                    .when(col('estado') == 'to', 'norte')\n",
    "                    .when(col('estado') == 'am', 'norte')\n",
    "                    .when(col('estado') == 'rr', 'norte')\n",
    "                    .when(col('estado') == 'ac', 'norte')\n",
    "                    .when(col('estado') == 'ro', 'norte')\n",
    "                    .when(col('estado') == 'ap', 'norte')\n",
    "                    .when(col('estado') == 'pa', 'norte')\n",
    "                    .when(col('estado') == 'mt', 'centro-oeste')\n",
    "                    .when(col('estado') == 'go', 'centro-oeste')\n",
    "                    .when(col('estado') == 'ms', 'centro-oeste')\n",
    "                    .when(col('estado') == 'df', 'centro-oeste')\n",
    "                    .when(col('estado') == 'mg', 'sudeste')\n",
    "                    .when(col('estado') == 'es', 'sudeste')\n",
    "                    .when(col('estado') == 'rj', 'sudeste')\n",
    "                    .when(col('estado') == 'sp', 'sudeste')\n",
    "                    .when(col('estado') == 'pr', 'sul')\n",
    "                    .when(col('estado') == 'rs', 'sul')\n",
    "                    .when(col('estado') == 'sc', 'sul'))\n",
    "\n",
    "ifood_df.show()\n",
    "ifood_df.printSchema()"
   ]
  },
  {
   "cell_type": "code",
   "execution_count": 7,
   "metadata": {},
   "outputs": [
    {
     "name": "stdout",
     "output_type": "stream",
     "text": [
      "+-------------+------------+-------------+---------+--------------------+---------+--------------------+------+--------+\n",
      "|    categoria|taxa_entrega|tempo_entrega|distancia|    nome_restaurante|avaliacao|       cidade-estado|estado|  regiao|\n",
      "+-------------+------------+-------------+---------+--------------------+---------+--------------------+------+--------+\n",
      "|      Lanches|         9.0|           80|      6.2|           El'moedor|  4.30303|vitoria-de-santo-...|    pe|nordeste|\n",
      "|Doces & Bolos|         6.0|           35|     3.03|Delicia de Brigad...|      0.0|           moreno-pe|    pe|nordeste|\n",
      "|   Brasileira|         4.0|           40|     1.51|Pizzaria Rappi10 ...|      0.0|           moreno-pe|    pe|nordeste|\n",
      "|      Lanches|         0.0|           50|     0.79|    Tapioca Arretada|      5.0|jaboatao-dos-guar...|    pe|nordeste|\n",
      "|     Salgados|       12.99|           36|     5.12|Minuto Kit Festa ...|      5.0|jaboatao-dos-guar...|    pe|nordeste|\n",
      "|Doces & Bolos|        8.99|           42|     4.78|              Docito|      5.0|jaboatao-dos-guar...|    pe|nordeste|\n",
      "|      Lanches|       12.99|           47|      6.3|          Nasu's Dog|      5.0|jaboatao-dos-guar...|    pe|nordeste|\n",
      "|      Lanches|       12.99|           67|     6.05|  Lanchinho Arretado|      0.0|           recife-pe|    pe|nordeste|\n",
      "|      Lanches|         7.0|           70|      4.8|          Burguer 92|      3.0|jaboatao-dos-guar...|    pe|nordeste|\n",
      "|      Marmita|         8.9|          120|     5.32|PARMEGIANA MESTRE...|    3.375|jaboatao-dos-guar...|    pe|nordeste|\n",
      "|   Brasileira|        4.99|           36|     1.27|Restaurante Recan...|      0.0|jaboatao-dos-guar...|    pe|nordeste|\n",
      "|      Lanches|        4.99|           23|     0.72|  Evellyn Doces Paes|      3.0|jaboatao-dos-guar...|    pe|nordeste|\n",
      "|   Brasileira|         5.0|           30|     2.12|      Feito Com Amor|      0.0|jaboatao-dos-guar...|    pe|nordeste|\n",
      "|      Bebidas|        8.99|           41|     4.83|    Deposito do Lula|      5.0|jaboatao-dos-guar...|    pe|nordeste|\n",
      "|Doces & Bolos|       12.99|           44|      6.0|     Mundo dos Doces|      0.0|jaboatao-dos-guar...|    pe|nordeste|\n",
      "|         Açaí|        8.99|           45|     4.34|      Parada do Açai|      5.0|jaboatao-dos-guar...|    pe|nordeste|\n",
      "|Doces & Bolos|         3.0|           20|      0.7|          Tais Cakes|      5.0|jaboatao-dos-guar...|    pe|nordeste|\n",
      "| Conveniência|        10.0|           45|     4.67|Ac Bebidas e Conv...|  4.77778|jaboatao-dos-guar...|    pe|nordeste|\n",
      "|   Brasileira|       12.99|           67|     6.04| Restaurante Ipanema|      0.0|           recife-pe|    pe|nordeste|\n",
      "|      Lanches|        8.99|           60|     4.07|         Dona Batata|      0.0|jaboatao-dos-guar...|    pe|nordeste|\n",
      "+-------------+------------+-------------+---------+--------------------+---------+--------------------+------+--------+\n",
      "only showing top 20 rows\n",
      "\n",
      "root\n",
      " |-- categoria: string (nullable = true)\n",
      " |-- taxa_entrega: float (nullable = true)\n",
      " |-- tempo_entrega: integer (nullable = true)\n",
      " |-- distancia: float (nullable = true)\n",
      " |-- nome_restaurante: string (nullable = true)\n",
      " |-- avaliacao: float (nullable = true)\n",
      " |-- cidade-estado: string (nullable = true)\n",
      " |-- estado: string (nullable = true)\n",
      " |-- regiao: string (nullable = true)\n",
      "\n"
     ]
    }
   ],
   "source": [
    "ifood_df_2020.show()\n",
    "ifood_df_2020.printSchema()"
   ]
  },
  {
   "cell_type": "markdown",
   "metadata": {},
   "source": [
    "# Mudança de nomes das colunas:"
   ]
  },
  {
   "cell_type": "code",
   "execution_count": 6,
   "metadata": {},
   "outputs": [
    {
     "name": "stdout",
     "output_type": "stream",
     "text": [
      "root\n",
      " |-- disponível_para_agendamento: string (nullable = true)\n",
      " |-- categoria: string (nullable = true)\n",
      " |-- taxa_de_entrega: float (nullable = true)\n",
      " |-- tempo_de_entrega: integer (nullable = true)\n",
      " |-- distancia: float (nullable = true)\n",
      " |-- valor_minimo_do_pedido: float (nullable = true)\n",
      " |-- nome: string (nullable = true)\n",
      " |-- avaliação: float (nullable = true)\n",
      " |-- cidade-estado: string (nullable = true)\n",
      " |-- estado: string (nullable = true)\n",
      " |-- regiao: string (nullable = true)\n",
      "\n",
      "root\n",
      " |-- categoria: string (nullable = true)\n",
      " |-- taxa_entrega: float (nullable = true)\n",
      " |-- tempo_entrega: integer (nullable = true)\n",
      " |-- distancia: float (nullable = true)\n",
      " |-- nome_restaurante: string (nullable = true)\n",
      " |-- avaliacao: float (nullable = true)\n",
      " |-- cidade-estado: string (nullable = true)\n",
      " |-- estado: string (nullable = true)\n",
      " |-- regiao: string (nullable = true)\n",
      "\n"
     ]
    }
   ],
   "source": [
    "ifood_df = ifood_df.withColumn(colName = 'avaliação', col = regexp_replace('avaliação',',','.').cast('float'))\n",
    "ifood_df = ifood_df.withColumn(colName = 'taxa_de_entrega', col = regexp_replace('taxa_de_entrega',',','.').cast('float'))\n",
    "ifood_df = ifood_df.withColumn(colName = 'tempo_de_entrega', col = regexp_replace('tempo_de_entrega',',','.').cast('int'))\n",
    "ifood_df = ifood_df.withColumn(colName = 'distancia', col = regexp_replace('distancia',',','.').cast('float'))\n",
    "ifood_df = ifood_df.withColumn(colName = 'valor_minimo_do_pedido', col = regexp_replace('valor_minimo_do_pedido',',','.').cast('float'))\n",
    "ifood_df.printSchema()\n",
    "ifood_df_2020 = ifood_df_2020.withColumn(colName = 'avaliacao', col = regexp_replace('avaliacao',',','.').cast('float'))\n",
    "ifood_df_2020 = ifood_df_2020.withColumn(colName = 'taxa_entrega', col = regexp_replace('taxa_entrega',',','.').cast('float'))\n",
    "ifood_df_2020 = ifood_df_2020.withColumn(colName = 'tempo_entrega', col = regexp_replace('tempo_entrega',',','.').cast('int'))\n",
    "ifood_df_2020 = ifood_df_2020.withColumn(colName = 'distancia', col = regexp_replace('distancia',',','.').cast('float'))\n",
    "ifood_df_2020.printSchema()"
   ]
  },
  {
   "cell_type": "markdown",
   "metadata": {},
   "source": [
    "# Análise da média de taxa de entrega por região:"
   ]
  },
  {
   "cell_type": "code",
   "execution_count": 8,
   "metadata": {},
   "outputs": [
    {
     "name": "stdout",
     "output_type": "stream",
     "text": [
      "Média das taxas do Nordeste: 8.02\n",
      "Média das taxas do Norte: 7.70 \n",
      "Média das taxas do Centro Oeste:8.18 \n",
      "Média das taxas do Sudeste: 7.72 \n",
      "Média das taxas do Sul: 7.74\n"
     ]
    }
   ],
   "source": [
    "media_taxa_nordeste = ifood_df.filter((col('regiao') == 'nordeste') & (col('taxa_de_entrega') > 0.0 )).agg(mean('taxa_de_entrega')).collect()\n",
    "media_taxa_valor_nordeste = media_taxa_nordeste[0][0]\n",
    "print(f\"Média das taxas do Nordeste: {media_taxa_valor_nordeste:.2f}\")\n",
    "media_taxa_norte = ifood_df.filter((col('regiao') == 'norte') & (col('taxa_de_entrega') > 0.0 )).agg(mean('taxa_de_entrega')).collect()\n",
    "media_taxa_valor_norte = media_taxa_norte[0][0]\n",
    "print(f\"Média das taxas do Norte: {media_taxa_valor_norte:.2f} \")\n",
    "media_taxa_centro_oeste = ifood_df.filter((col('regiao') == 'centro-oeste') & (col('taxa_de_entrega') > 0.0 )).agg(mean('taxa_de_entrega')).collect()\n",
    "media_taxa_valor_centro_oeste = media_taxa_centro_oeste[0][0]\n",
    "print(f\"Média das taxas do Centro Oeste:{media_taxa_valor_centro_oeste:.2f} \")\n",
    "media_taxa_sudeste = ifood_df.filter((col('regiao') == 'sudeste') & (col('taxa_de_entrega') > 0.0 )).agg(mean('taxa_de_entrega')).collect()\n",
    "media_taxa_valor_sudeste = media_taxa_sudeste[0][0]\n",
    "print(f\"Média das taxas do Sudeste: {media_taxa_valor_sudeste:.2f} \")\n",
    "media_taxa_sul = ifood_df.filter((col('regiao') == 'sul') & (col('taxa_de_entrega') > 0.0 )).agg(mean('taxa_de_entrega')).collect()\n",
    "media_taxa_valor_sul = media_taxa_sul[0][0]\n",
    "print(f\"Média das taxas do Sul: {media_taxa_valor_sul:.2f}\")"
   ]
  },
  {
   "cell_type": "markdown",
   "metadata": {},
   "source": [
    "# Analise da média das avaliações dos restaurantes em cada região do Brasil:"
   ]
  },
  {
   "cell_type": "code",
   "execution_count": 9,
   "metadata": {},
   "outputs": [
    {
     "name": "stdout",
     "output_type": "stream",
     "text": [
      "Média das avaliações do Nordeste: 4.46\n",
      "Média das avaliações do Norte: 4.44 \n",
      "Média das avaliações do Centro Oeste:4.49 \n",
      "Média das avaliações do Sudeste: 4.52 \n",
      "Média das avaliações do Sul: 4.55\n"
     ]
    }
   ],
   "source": [
    "#Ano de 2021:\n",
    "media_nordeste = ifood_df.filter((col('regiao') == 'nordeste') & (col('avaliação') > 0.0 )).agg(mean('avaliação')).collect()\n",
    "media_valor_nordeste = media_nordeste[0][0]\n",
    "print(f\"Média das avaliações do Nordeste: {media_valor_nordeste:.2f}\")\n",
    "media_norte = ifood_df.filter((col('regiao') == 'norte') & (col('avaliação') > 0.0 )).agg(mean('avaliação')).collect()\n",
    "media_valor_norte = media_norte[0][0]\n",
    "print(f\"Média das avaliações do Norte: {media_valor_norte:.2f} \")\n",
    "media_centro_oeste = ifood_df.filter((col('regiao') == 'centro-oeste') & (col('avaliação') > 0.0 )).agg(mean('avaliação')).collect()\n",
    "media_valor_centro_oeste = media_centro_oeste[0][0]\n",
    "print(f\"Média das avaliações do Centro Oeste:{media_valor_centro_oeste:.2f} \")\n",
    "media_sudeste = ifood_df.filter((col('regiao') == 'sudeste') & (col('avaliação') > 0.0 )).agg(mean('avaliação')).collect()\n",
    "media_valor_sudeste = media_sudeste[0][0]\n",
    "print(f\"Média das avaliações do Sudeste: {media_valor_sudeste:.2f} \")\n",
    "media_sul = ifood_df.filter((col('regiao') == 'sul') & (col('avaliação') > 0.0 )).agg(mean('avaliação')).collect()\n",
    "media_valor_sul = media_sul[0][0]\n",
    "print(f\"Média das avaliações do Sul: {media_valor_sul:.2f}\")"
   ]
  },
  {
   "cell_type": "code",
   "execution_count": 10,
   "metadata": {},
   "outputs": [
    {
     "name": "stdout",
     "output_type": "stream",
     "text": [
      "Média das avaliações do Nordeste: 4.46\n",
      "Média das avaliações do Norte: 4.41\n",
      "Média das avaliações do Centro Oeste: 4.50\n",
      "Média das avaliações do Sudeste: 4.53\n",
      "Média das avaliações do Sul: 4.59\n"
     ]
    }
   ],
   "source": [
    "#Ano de 2020\n",
    "media_nordeste_2020 = ifood_df_2020.filter((col('regiao') == 'nordeste') & (col('avaliacao') > 0.0 )).agg(mean('avaliacao')).collect()\n",
    "media_valor_nordeste_2020 = media_nordeste_2020[0][0]\n",
    "print(f\"Média das avaliações do Nordeste: {media_valor_nordeste_2020:.2f}\")\n",
    "media_norte_2020 = ifood_df_2020.filter((col('regiao') == 'norte') & (col('avaliacao') > 0.0 )).agg(mean('avaliacao')).collect()\n",
    "media_valor_norte_2020 = media_norte_2020[0][0]\n",
    "print(f\"Média das avaliações do Norte: {media_valor_norte_2020:.2f}\")\n",
    "media_centro_oeste_2020 = ifood_df_2020.filter((col('regiao') == 'centro-oeste') & (col('avaliacao') > 0.0 )).agg(mean('avaliacao')).collect()\n",
    "media_valor_centro_oeste_2020 = media_centro_oeste_2020[0][0]\n",
    "print(f\"Média das avaliações do Centro Oeste: {media_valor_centro_oeste_2020:.2f}\")\n",
    "media_sudeste_2020 = ifood_df_2020.filter((col('regiao') == 'sudeste') & (col('avaliacao') > 0.0 )).agg(mean('avaliacao')).collect()\n",
    "media_valor_sudeste_2020 = media_sudeste_2020[0][0]\n",
    "print(f\"Média das avaliações do Sudeste: {media_valor_sudeste_2020:.2f}\")\n",
    "media_sul_2020 = ifood_df_2020.filter((col('regiao') == 'sul') & (col('avaliacao') > 0.0 )).agg(mean('avaliacao')).collect()\n",
    "media_valor_sul_2020 = media_sul_2020[0][0]\n",
    "print(f\"Média das avaliações do Sul: {media_valor_sul_2020:.2f}\")"
   ]
  },
  {
   "cell_type": "markdown",
   "metadata": {},
   "source": [
    "# Análises da quantidade de restaurante custo beneficio por região:"
   ]
  },
  {
   "cell_type": "code",
   "execution_count": 11,
   "metadata": {},
   "outputs": [],
   "source": [
    "custo_beneficio_nordeste = ifood_df.filter((col('regiao') == 'nordeste') & (col('avaliação') >= 4.0 ) & (col('taxa_de_entrega') == 0.0 ) & (col('valor_minimo_do_pedido') == 0.0 )).groupBy('Regiao').count().orderBy(col('count').desc()).collect()\n",
    "custo_beneficio_norte = ifood_df.filter((col('regiao') == 'norte') & (col('avaliação') >= 4.0 ) & (col('taxa_de_entrega') == 0.0 ) & (col('valor_minimo_do_pedido') == 0.0 )).groupBy('Regiao').count().orderBy(col('count').desc()).collect()\n",
    "custo_beneficio_centro_oeste = ifood_df.filter((col('regiao') == 'centro-oeste') & (col('avaliação') >= 4.0 ) & (col('taxa_de_entrega') == 0.0 ) & (col('valor_minimo_do_pedido') == 0.0 )).groupBy('Regiao').count().orderBy(col('count').desc()).collect()\n",
    "custo_beneficio_sudeste = ifood_df.filter((col('regiao') == 'sudeste') & (col('avaliação') >= 4.0 ) & (col('taxa_de_entrega') == 0.0 ) & (col('valor_minimo_do_pedido') == 0.0 )).groupBy('Regiao').count().orderBy(col('count').desc()).collect()\n",
    "custo_beneficio_sul = ifood_df.filter((col('regiao') == 'sul') & (col('avaliação') >= 4.0 ) & (col('taxa_de_entrega') == 0.0 ) & (col('valor_minimo_do_pedido') == 0.0 )).groupBy('Regiao').count().orderBy(col('count').desc()).collect()"
   ]
  },
  {
   "cell_type": "code",
   "execution_count": 12,
   "metadata": {},
   "outputs": [],
   "source": [
    "custo_beneficio_nordeste_valor = custo_beneficio_nordeste[0] if custo_beneficio_nordeste else None\n",
    "custo_beneficio_norte_valor = custo_beneficio_norte[0] if custo_beneficio_norte else None\n",
    "custo_beneficio_centro_oeste_valor = custo_beneficio_centro_oeste[0] if custo_beneficio_centro_oeste else None\n",
    "custo_beneficio_sudeste_valor = custo_beneficio_sudeste[0] if custo_beneficio_sudeste else None\n",
    "custo_beneficio_sul_valor = custo_beneficio_sul[0] if custo_beneficio_sul else None"
   ]
  },
  {
   "cell_type": "markdown",
   "metadata": {},
   "source": [
    "# Analise das Principais Categorias de restaurante de cada região por quantidade e por avaliação:"
   ]
  },
  {
   "cell_type": "code",
   "execution_count": 14,
   "metadata": {},
   "outputs": [
    {
     "name": "stdout",
     "output_type": "stream",
     "text": [
      "Top 3 categorias nordeste:\n",
      "+----------+-----+\n",
      "| categoria|count|\n",
      "+----------+-----+\n",
      "|   Lanches|12288|\n",
      "|Brasileira|11142|\n",
      "|     Pizza| 6353|\n",
      "+----------+-----+\n",
      "\n",
      "Top 3 categorias norte:\n",
      "+----------+-----+\n",
      "| categoria|count|\n",
      "+----------+-----+\n",
      "|   Lanches| 3736|\n",
      "|Brasileira| 3597|\n",
      "|     Pizza| 1668|\n",
      "+----------+-----+\n",
      "\n",
      "Top 3 categorias centro-oeste:\n",
      "+-------------+-----+\n",
      "|    categoria|count|\n",
      "+-------------+-----+\n",
      "|      Lanches| 5802|\n",
      "|   Brasileira| 5108|\n",
      "|Doces & Bolos| 2592|\n",
      "+-------------+-----+\n",
      "\n",
      "Top 3 categorias sudeste:\n",
      "+-------------+-----+\n",
      "|    categoria|count|\n",
      "+-------------+-----+\n",
      "|      Lanches|60764|\n",
      "|   Brasileira|46023|\n",
      "|Doces & Bolos|25606|\n",
      "+-------------+-----+\n",
      "\n",
      "Top 3 categorias sul:\n",
      "+----------+-----+\n",
      "| categoria|count|\n",
      "+----------+-----+\n",
      "|   Lanches|16353|\n",
      "|Brasileira| 7478|\n",
      "|     Pizza| 4916|\n",
      "+----------+-----+\n",
      "\n"
     ]
    }
   ],
   "source": [
    "#Top 3 categorias em quantidade\n",
    "print(\"Top 3 categorias nordeste:\")\n",
    "categorias_nordeste_2021_quantidade = ifood_df.filter(col('regiao') == 'nordeste').select('categoria').groupBy('categoria').count().orderBy(col('count').desc()).limit(3).show()\n",
    "print(\"Top 3 categorias norte:\")\n",
    "categorias_norte_2021__quantidade = ifood_df.filter(col('regiao') == 'norte').select('categoria').groupBy('categoria').count().orderBy(col('count').desc()).limit(3).show()\n",
    "print(\"Top 3 categorias centro-oeste:\")\n",
    "categorias_centro_oeste_2021_quantidade = ifood_df.filter(col('regiao') == 'centro-oeste').select('categoria').groupBy('categoria').count().orderBy(col('count').desc()).limit(3).show()\n",
    "print(\"Top 3 categorias sudeste:\")\n",
    "categorias_sudeste_2021_quantidade = ifood_df.filter(col('regiao') == 'sudeste').select('categoria').groupBy('categoria').count().orderBy(col('count').desc()).limit(3).show()\n",
    "print(\"Top 3 categorias sul:\")\n",
    "categorias_sul_2021_quantidade = ifood_df.filter(col('regiao') == 'sul').select('categoria').groupBy('categoria').count().orderBy(col('count').desc()).limit(3).show()"
   ]
  },
  {
   "cell_type": "code",
   "execution_count": 15,
   "metadata": {},
   "outputs": [
    {
     "name": "stdout",
     "output_type": "stream",
     "text": [
      "Top 3 categorias mais bem avaliadas nordeste:\n",
      "+----------+-----+\n",
      "| categoria|count|\n",
      "+----------+-----+\n",
      "|   Lanches| 5560|\n",
      "|Brasileira| 4159|\n",
      "|     Pizza| 3135|\n",
      "+----------+-----+\n",
      "\n",
      "Top 3 categorias mais bem avaliadas norte:\n",
      "+----------+-----+\n",
      "| categoria|count|\n",
      "+----------+-----+\n",
      "|   Lanches| 1532|\n",
      "|Brasileira| 1288|\n",
      "|     Pizza|  750|\n",
      "+----------+-----+\n",
      "\n",
      "Top 3 categorias mais bem avaliadas centro-oeste:\n",
      "+----------+-----+\n",
      "| categoria|count|\n",
      "+----------+-----+\n",
      "|   Lanches| 2792|\n",
      "|Brasileira| 2201|\n",
      "|     Pizza| 1215|\n",
      "+----------+-----+\n",
      "\n",
      "Top 3 categorias mais bem avaliadas sudeste:\n",
      "+----------+-----+\n",
      "| categoria|count|\n",
      "+----------+-----+\n",
      "|   Lanches|29336|\n",
      "|Brasileira|20239|\n",
      "|     Pizza|12973|\n",
      "+----------+-----+\n",
      "\n",
      "Top 3 categorias mais bem avaliadas sul:\n",
      "+----------+-----+\n",
      "| categoria|count|\n",
      "+----------+-----+\n",
      "|   Lanches| 8846|\n",
      "|Brasileira| 3516|\n",
      "|     Pizza| 3160|\n",
      "+----------+-----+\n",
      "\n"
     ]
    }
   ],
   "source": [
    "#Top 3 categorias mais bem avaliadas de cada região\n",
    "print('Top 3 categorias mais bem avaliadas nordeste:')\n",
    "categorias_nordeste_2021_avaliadas = ifood_df.filter((col('regiao') == 'nordeste') & (col('avaliação') >= 4.0 )).groupBy('categoria').count().orderBy(col('count').desc()).limit(3).show()\n",
    "print('Top 3 categorias mais bem avaliadas norte:')\n",
    "categorias_norte_2021_avaliadas = ifood_df.filter((col('regiao') == 'norte') & (col('avaliação') >= 4.0 )).select('categoria').groupBy('categoria').count().orderBy(col('count').desc()).limit(3).show()\n",
    "print('Top 3 categorias mais bem avaliadas centro-oeste:')\n",
    "categorias_centro_oeste_2021_avaliadas = ifood_df.filter((col('regiao') == 'centro-oeste') & (col('avaliação') >= 4.0 )).select('categoria').groupBy('categoria').count().orderBy(col('count').desc()).limit(3).show()\n",
    "print('Top 3 categorias mais bem avaliadas sudeste:')\n",
    "categorias_sudeste_2021_avaliadas = ifood_df.filter((col('regiao') == 'sudeste') & (col('avaliação') >= 4.0 )).select('categoria').groupBy('categoria').count().orderBy(col('count').desc()).limit(3).show()\n",
    "print('Top 3 categorias mais bem avaliadas sul:')\n",
    "categorias_sul_2021_avaliadas = ifood_df.filter((col('regiao') == 'sul') & (col('avaliação') >= 4.0 )).select('categoria').groupBy('categoria').count().orderBy(col('count').desc()).limit(3).show()"
   ]
  },
  {
   "cell_type": "markdown",
   "metadata": {},
   "source": [
    "# Crescimento de restaurantes entre 2020 e 2021:"
   ]
  },
  {
   "cell_type": "code",
   "execution_count": 19,
   "metadata": {},
   "outputs": [
    {
     "name": "stdout",
     "output_type": "stream",
     "text": [
      "Percentual do crescimento de restaurantes entre 2020 e 2021 foi de 12.08%\n",
      "Crescimento de restaurantes entre 2020 e 2021 foi de 37277 \n"
     ]
    }
   ],
   "source": [
    "restaurantes_2020 = dados_2020['nome_restaurante'].nunique()\n",
    "restaurantes_2021 = dados_2021['nome'].nunique()\n",
    "crescimento = restaurantes_2021 - restaurantes_2020\n",
    "percentual = (crescimento / restaurantes_2020) * 100\n",
    "print(f\"Percentual do crescimento de restaurantes entre 2020 e 2021 foi de {percentual:.2f}%\")\n",
    "print(f\"Crescimento de restaurantes entre 2020 e 2021 foi de {crescimento} \")"
   ]
  }
 ],
 "metadata": {
  "kernelspec": {
   "display_name": "Python 3",
   "language": "python",
   "name": "python3"
  },
  "language_info": {
   "codemirror_mode": {
    "name": "ipython",
    "version": 3
   },
   "file_extension": ".py",
   "mimetype": "text/x-python",
   "name": "python",
   "nbconvert_exporter": "python",
   "pygments_lexer": "ipython3",
   "version": "3.12.5"
  }
 },
 "nbformat": 4,
 "nbformat_minor": 2
}
